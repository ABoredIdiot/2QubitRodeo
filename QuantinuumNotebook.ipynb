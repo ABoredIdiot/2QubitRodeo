{
 "cells": [
  {
   "cell_type": "code",
   "execution_count": null,
   "outputs": [],
   "source": [
    "%matplotlib inline\n",
    "from RodeoMethods import *"
   ],
   "metadata": {
    "collapsed": false,
    "pycharm": {
     "name": "#%%\n"
    }
   }
  },
  {
   "cell_type": "code",
   "execution_count": null,
   "outputs": [],
   "source": [
    "# coefficients used for production/testing in non-ideal circumstances\n",
    "#eigenvalues of -3.350776088039110, -2.128344883080157, 2.128344883080156, 3.350776088039110]\n",
    "mods = np.random.default_rng(42)\n",
    "\n",
    "prodXMod = (mods.random() - 0.5) * 10\n",
    "prodZMod = (mods.random() - 0.5) * 10\n",
    "\n",
    "# rodeo algorithm parameters used for testing\n",
    "xMod = 2.5\n",
    "zMod = 1.5\n",
    "numCycles = 3\n",
    "numScans = 17 # can be different for scans 1, 2, 3 if needed"
   ],
   "metadata": {
    "collapsed": false,
    "pycharm": {
     "name": "#%%\n"
    }
   }
  },
  {
   "cell_type": "code",
   "execution_count": null,
   "outputs": [],
   "source": [
    "maxEigenvalue = estimate_eignenvalues(xMod, zMod)  # replace this with an upper/lower bound for eigenvalues from xMod and zMod\n",
    "firstRunEnergies = np.linspace(-maxEigenvalue, maxEigenvalue, numScans)\n",
    "firstStepSize = abs(firstRunEnergies[1]) - abs(firstRunEnergies[0])\n",
    "\n",
    "deviation = 2 # standard deviation of times\n",
    "redundancy = 5 # number of runs per scan. this has helped a lot with making the noise more consistent ...\n",
    "#... (less large random spikes), but it may not be necessary with the new time generation)\n",
    "\n",
    "firstScan = make_scan(xMod, zMod, numCycles, firstRunEnergies, deviation, redundancy)"
   ],
   "metadata": {
    "collapsed": false,
    "pycharm": {
     "name": "#%%\n"
    }
   }
  },
  {
   "cell_type": "code",
   "execution_count": null,
   "outputs": [],
   "source": [
    "numScans = 21\n",
    "firstScanPeaks = [-4, -1, 1, 4] # example peaks from the first scan. there will likely be more\n",
    "secondScanEnergies = []\n",
    "\n",
    "deviation = 7\n",
    "redundancy = 10\n",
    "\n",
    "for energy in firstScanPeaks:\n",
    "    secondScanEnergies.append(np.linspace(energy + firstStepSize / 2, energy - firstStepSize / 2, numScans))\n",
    "secondScanEnergies = [item for sublist in secondScanEnergies for item in sublist]\n",
    "# collapse the array of second scans into a single list of all energies to be run\n",
    "secondPassCircuits = make_scan(xMod, zMod, numCycles, secondScanEnergies, deviation, redundancy)"
   ],
   "metadata": {
    "collapsed": false,
    "pycharm": {
     "name": "#%%\n"
    }
   }
  },
  {
   "cell_type": "code",
   "execution_count": null,
   "outputs": [],
   "source": [
    "numScans = 21\n",
    "secondScanPeaks = [-4, -1, 1, 4]\n",
    "thirdScanEnergies = []\n",
    "\n",
    "deviation = 12\n",
    "redundancy = 25\n",
    "\n",
    "for energy in secondScanPeaks:\n",
    "    thirdScanEnergies.append(np.linspace(energy + firstStepSize / 4, energy - firstStepSize / 4, numScans))\n",
    "\n",
    "thirdScanEnergies = [item for sublist in thirdScanEnergies for item in sublist]\n",
    "thirdPassCircuits = make_scan(xMod, zMod, numCycles, thirdScanEnergies, deviation, redundancy)"
   ],
   "metadata": {
    "collapsed": false,
    "pycharm": {
     "name": "#%%\n"
    }
   }
  }
 ],
 "metadata": {
  "kernelspec": {
   "display_name": "Python 3",
   "language": "python",
   "name": "python3"
  },
  "language_info": {
   "codemirror_mode": {
    "name": "ipython",
    "version": 2
   },
   "file_extension": ".py",
   "mimetype": "text/x-python",
   "name": "python",
   "nbconvert_exporter": "python",
   "pygments_lexer": "ipython2",
   "version": "2.7.6"
  }
 },
 "nbformat": 4,
 "nbformat_minor": 0
}