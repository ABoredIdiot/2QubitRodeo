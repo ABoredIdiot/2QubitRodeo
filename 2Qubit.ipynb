{
 "cells": [
  {
   "cell_type": "code",
   "execution_count": 2,
   "outputs": [],
   "source": [
    "import math\n",
    "\n",
    "import numpy as np\n",
    "import qiskit.quantum_info\n",
    "from sympy import *\n",
    "from sympy.solvers import solve\n",
    "import random\n",
    "from qiskit import *\n",
    "from qiskit import IBMQ\n",
    "import pylatexenc\n",
    "import scipy as sp\n",
    "from numpy import linalg as la\n",
    "import matplotlib.pyplot as plt\n",
    "from scipy import linalg as sla\n",
    "from IPython.display import clear_output\n",
    "from numpy import linalg as la\n",
    "from qiskit.tools.visualization import plot_histogram\n",
    "from qiskit.circuit import QuantumCircuit, ParameterVector\n",
    "from qiskit.circuit import Parameter\n",
    "from qiskit.compiler import transpile, assemble\n",
    "from qiskit.providers.ibmq.managed import IBMQJobManager\n",
    "from qiskit.visualization import *\n",
    "from operator import itemgetter\n",
    "from functools import reduce"
   ],
   "metadata": {
    "collapsed": false,
    "pycharm": {
     "name": "#%%\n"
    }
   }
  },
  {
   "cell_type": "code",
   "execution_count": 3,
   "outputs": [
    {
     "name": "stderr",
     "output_type": "stream",
     "text": [
      "configrc.store_credentials:WARNING:2021-10-06 23:48:48,301: Credentials already present. Set overwrite=True to overwrite.\n"
     ]
    },
    {
     "name": "stdout",
     "output_type": "stream",
     "text": [
      "[<IBMQSimulator('ibmq_qasm_simulator') from IBMQ(hub='ibm-q', group='open', project='main')>, <IBMQBackend('ibmq_armonk') from IBMQ(hub='ibm-q', group='open', project='main')>, <IBMQBackend('ibmq_santiago') from IBMQ(hub='ibm-q', group='open', project='main')>, <IBMQBackend('ibmq_bogota') from IBMQ(hub='ibm-q', group='open', project='main')>, <IBMQBackend('ibmq_lima') from IBMQ(hub='ibm-q', group='open', project='main')>, <IBMQBackend('ibmq_belem') from IBMQ(hub='ibm-q', group='open', project='main')>, <IBMQBackend('ibmq_quito') from IBMQ(hub='ibm-q', group='open', project='main')>, <IBMQSimulator('simulator_statevector') from IBMQ(hub='ibm-q', group='open', project='main')>, <IBMQSimulator('simulator_mps') from IBMQ(hub='ibm-q', group='open', project='main')>, <IBMQSimulator('simulator_extended_stabilizer') from IBMQ(hub='ibm-q', group='open', project='main')>, <IBMQSimulator('simulator_stabilizer') from IBMQ(hub='ibm-q', group='open', project='main')>, <IBMQBackend('ibmq_manila') from IBMQ(hub='ibm-q', group='open', project='main')>]\n"
     ]
    }
   ],
   "source": [
    "file = open(\"key.txt\", \"r\")\n",
    "key = file.read()\n",
    "IBMQ.save_account(key)\n",
    "IBMQ.load_account()\n",
    "provider = IBMQ.get_provider()\n",
    "\n",
    "print(provider.backends())\n",
    "\n",
    "backend = provider.get_backend('ibmq_qasm_simulator')\n",
    "# backend = provider.get_backend('simulator_statevector')\n",
    "# simulator = Aer.get_backend('aer_simulator')"
   ],
   "metadata": {
    "collapsed": false,
    "pycharm": {
     "name": "#%%\n"
    }
   }
  },
  {
   "cell_type": "code",
   "execution_count": null,
   "outputs": [],
   "source": [
    "#obsolete; new simpler version is used\n",
    "def make_cont_sys_circ(inTime):\n",
    "    time = Parameter('time')\n",
    "\n",
    "    temp = QuantumCircuit(2)\n",
    "\n",
    "    # temp.h(1)\n",
    "\n",
    "    temp.cx(1, 0)\n",
    "    temp.h(1)\n",
    "    temp.sdg(0)\n",
    "    temp.sdg(1)\n",
    "\n",
    "    temp.rz(2 * time, 0)\n",
    "    temp.rz(4 * time, 1)\n",
    "\n",
    "    temp.s(0)\n",
    "    temp.s(1)\n",
    "    temp.h(1)\n",
    "    temp.cx(1, 0)\n",
    "\n",
    "    # temp.h(1)\n",
    "\n",
    "    tempGate = temp.to_gate({time: inTime}, \"sys: \" + str(inTime))\n",
    "\n",
    "    contTemp = tempGate.control(1)\n",
    "\n",
    "    return tempGate\n",
    "\n",
    "temp = QuantumCircuit(2)\n",
    "\n",
    "temp.append(make_cont_sys_circ(1), [0, 1])\n",
    "\n",
    "temp.decompose().draw('mpl')"
   ],
   "metadata": {
    "collapsed": false,
    "pycharm": {
     "name": "#%%\n"
    }
   }
  },
  {
   "cell_type": "code",
   "execution_count": 4,
   "outputs": [
    {
     "data": {
      "text/plain": "<Figure size 371.107x284.278 with 1 Axes>",
      "image/png": "[encoded data removed]"
     },
     "execution_count": 4,
     "metadata": {},
     "output_type": "execute_result"
    }
   ],
   "source": [
    "def make_cont_sys_circ2(inTime, xMod, zMod):\n",
    "    temp = QuantumCircuit(3)\n",
    "\n",
    "    temp.cx(1, 0)\n",
    "\n",
    "    temp.rx(2 * xMod * inTime, 1)\n",
    "    temp.rz(2 * zMod * inTime, 0)\n",
    "\n",
    "    temp.cx(1, 0)\n",
    "\n",
    "    return temp\n",
    "\n",
    "temp = QuantumCircuit(3)\n",
    "\n",
    "temp.compose(make_cont_sys_circ2(1, 2, 1), [0, 1, 2], inplace=True)\n",
    "\n",
    "temp.draw('mpl')"
   ],
   "metadata": {
    "collapsed": false,
    "pycharm": {
     "name": "#%%\n"
    }
   }
  },
  {
   "cell_type": "code",
   "execution_count": 5,
   "outputs": [
    {
     "data": {
      "text/plain": "<Figure size 956.385x284.278 with 1 Axes>",
      "image/png": "[encoded data removed]"
     },
     "execution_count": 5,
     "metadata": {},
     "output_type": "execute_result"
    }
   ],
   "source": [
    "def make_cycle(time, ETarget, xMod, zMod):\n",
    "    cycle = QuantumCircuit(3)\n",
    "\n",
    "    cycle.h(2)\n",
    "\n",
    "    cycle.x(2)\n",
    "    cycle.cy(2, 1)\n",
    "\n",
    "    cycle.compose(make_cont_sys_circ2(time, xMod, zMod), [0, 1, 2], inplace=True)\n",
    "\n",
    "    cycle.cy(2, 1)\n",
    "    cycle.x(2)\n",
    "\n",
    "    cycle.p(time * ETarget * 2, 2)\n",
    "\n",
    "    cycle.h(2)\n",
    "\n",
    "    return cycle\n",
    "\n",
    "test = QuantumCircuit(3)\n",
    "test.compose(make_cycle(1, 1, 2, 1), [0, 1, 2], inplace=True)\n",
    "test.draw('mpl')"
   ],
   "metadata": {
    "collapsed": false,
    "pycharm": {
     "name": "#%%\n"
    }
   }
  },
  {
   "cell_type": "code",
   "execution_count": 6,
   "outputs": [
    {
     "name": "stdout",
     "output_type": "stream",
     "text": [
      "9.846607088715709\n",
      "-4.923996559982481\n",
      "-0.44549685055238125\n",
      "5.549659955217185\n",
      "-3.9776606509135752\n"
     ]
    }
   ],
   "source": [
    "#TODO: Find way to gaurantee low overlap\n",
    "\n",
    "t1 = np.random.normal(0, 5)\n",
    "t2 = np.random.normal(0, 5)\n",
    "t3 = np.random.normal(0, 5)\n",
    "t4 = np.random.normal(0, 5)\n",
    "t5 = np.random.normal(0, 5)\n",
    "\n",
    "print(t1)\n",
    "print(t2)\n",
    "print(t3)\n",
    "print(t4)\n",
    "print(t5)"
   ],
   "metadata": {
    "collapsed": false,
    "pycharm": {
     "name": "#%%\n"
    }
   }
  },
  {
   "cell_type": "code",
   "execution_count": null,
   "outputs": [],
   "source": [
    "specSuccess4 = list()\n",
    "specAll4 = list()\n",
    "\n",
    "vectors = [[0, 0, -1/sqrt(2), 0, 1/sqrt(2), 0, 0, 0], [1/sqrt(2), 0, 0, 0, 0, 0, 1/sqrt(2), 0], [-1/sqrt(2), 0, 0, 0, 0, 0, 1/sqrt(2), 0], [0, 0, 1/sqrt(2), 0, 1/sqrt(2), 0, 0, 0]]\n",
    "#eigenstate (tensor) {1,0}\n",
    "values = [-3, 3, -1, 1]\n",
    "\n",
    "#initial_state = [1/sqrt(2), 0, 0, -1/sqrt(2), 0, 0, 0,0]\n",
    "#initial_vector = qiskit.quantum_info.Statevector(initial_state)\n",
    "\n",
    "#start with np.linspace to get few (~10) evenly sized bins\n",
    "#use small sigma to search\n",
    "#repeat search on peaks with larger sigma\n",
    "\n",
    "for i in Range(1):\n",
    "    energies = [-3,-1, 1, 3]\n",
    "    eTarget = energies[i]\n",
    "    # eTarget = -3 + (i) * 2\n",
    "    # eTarget = i/10 - 5\n",
    "\n",
    "    eTarget = float(eTarget)\n",
    "    print(str(eTarget) + \": \")\n",
    "\n",
    "    rodeo = QuantumCircuit(QuantumRegister(3), ClassicalRegister(5))\n",
    "\n",
    "    # rodeo.initialize(initial_vector)\n",
    "    # rodeo.h(2)\n",
    "    # rodeo.x(1)\n",
    "    # rodeo.x(2)\n",
    "    # rodeo.p(1, 0)\n",
    "\n",
    "    rodeo.compose(make_cycle(t1, eTarget), [0, 1, 2], inplace=True)\n",
    "    rodeo.measure(0, 0) #cbit 0000n\n",
    "\n",
    "    # rodeo.compose(make_cycle(t2, eTarget), [0, 1, 2], inplace=True)\n",
    "    # rodeo.measure(0, 1) #cbit 000n0\n",
    "    #\n",
    "    # rodeo.compose(make_cycle(t3, eTarget), [0, 1, 2], inplace=True)\n",
    "    # rodeo.measure(0, 2) #cbit 00n00\n",
    "    #\n",
    "    # rodeo.compose(make_cycle(t4, eTarget), [0, 1, 2], inplace=True)\n",
    "    # rodeo.measure(0, 3) #cbit 0n000\n",
    "    #\n",
    "    # rodeo.compose(make_cycle(t5, eTarget), [0, 1, 2], inplace=True)\n",
    "    # rodeo.measure(0, 4) #cbit n0000\n",
    "\n",
    "\n",
    "    job = execute(rodeo, backend=backend)\n",
    "    job.wait_for_final_state()\n",
    "\n",
    "    numSuccess = job.result().get_counts().get('00000')\n",
    "    if numSuccess is None:\n",
    "        numSuccess = 0\n",
    "\n",
    "    print(numSuccess)\n",
    "    specSuccess4.append(numSuccess)\n",
    "\n",
    "    print(job.result().get_counts())\n",
    "\n",
    "rodeo.draw('mpl')"
   ],
   "metadata": {
    "collapsed": false,
    "pycharm": {
     "name": "#%%\n"
    }
   }
  },
  {
   "cell_type": "code",
   "execution_count": 7,
   "outputs": [
    {
     "name": "stdout",
     "output_type": "stream",
     "text": [
      "running energy = -1\n",
      "674\n"
     ]
    }
   ],
   "source": [
    "def run_rodeo(sigma, numCycles, ETarget, xMod, zMod):\n",
    "    print('running energy = ' + str(ETarget))\n",
    "    times = list()\n",
    "    for i in range(numCycles):\n",
    "        times.append(np.random.normal(0, sigma))\n",
    "    # print(times)\n",
    "    rodeo = QuantumCircuit(QuantumRegister(3), ClassicalRegister(numCycles))\n",
    "\n",
    "    for i in range(numCycles):\n",
    "        rodeo.compose(make_cycle(times[i], ETarget, xMod, zMod), [0, 1, 2], inplace=True)\n",
    "        rodeo.measure(2, i)\n",
    "\n",
    "    job = execute(rodeo, backend=backend)\n",
    "    job.wait_for_final_state()\n",
    "\n",
    "    state = ''\n",
    "    for i in range(numCycles):\n",
    "        state = state + '0'\n",
    "\n",
    "    return job.result().get_counts().get(state)\n",
    "\n",
    "print(run_rodeo(5, 3, -1, 2, 1))"
   ],
   "metadata": {
    "collapsed": false,
    "pycharm": {
     "name": "#%%\n"
    }
   }
  },
  {
   "cell_type": "code",
   "execution_count": 12,
   "outputs": [
    {
     "name": "stdout",
     "output_type": "stream",
     "text": [
      "running energy = -5.0\n",
      "energy: -5.0\n",
      "counts: 439\n",
      "running energy = -4.0\n",
      "energy: -4.0\n",
      "counts: 120\n",
      "running energy = -3.0\n",
      "energy: -3.0\n",
      "counts: 9\n",
      "running energy = -2.0\n",
      "energy: -2.0\n",
      "counts: 11\n",
      "running energy = -1.0\n",
      "energy: -1.0\n",
      "counts: 545\n",
      "running energy = 0.0\n",
      "energy: 0.0\n",
      "counts: 27\n",
      "running energy = 1.0\n",
      "energy: 1.0\n",
      "counts: 369\n",
      "running energy = 2.0\n",
      "energy: 2.0\n",
      "counts: 27\n",
      "running energy = 3.0\n",
      "energy: 3.0\n",
      "counts: 590\n",
      "running energy = 4.0\n",
      "energy: 4.0\n",
      "counts: 383\n",
      "running energy = 5.0\n",
      "energy: 5.0\n",
      "counts: 10\n",
      "[-5.0, -1.0, 3.0]\n",
      "energy: -5.1\n",
      "running energy = -5.1\n",
      "energy: -5.08\n",
      "running energy = -5.08\n",
      "energy: -5.06\n",
      "running energy = -5.06\n",
      "energy: -5.04\n",
      "running energy = -5.04\n",
      "energy: -5.02\n",
      "running energy = -5.02\n",
      "energy: -5.0\n",
      "running energy = -5.0\n",
      "energy: -4.98\n",
      "running energy = -4.98\n",
      "energy: -4.96\n",
      "running energy = -4.96\n",
      "energy: -4.94\n",
      "running energy = -4.94\n",
      "energy: -4.92\n",
      "running energy = -4.92\n",
      "energy: -4.9\n",
      "running energy = -4.9\n",
      "energy: -1.1\n",
      "running energy = -1.1\n",
      "energy: -1.08\n",
      "running energy = -1.08\n",
      "energy: -1.06\n",
      "running energy = -1.06\n",
      "energy: -1.04\n",
      "running energy = -1.04\n",
      "energy: -1.02\n",
      "running energy = -1.02\n",
      "energy: -1.0\n",
      "running energy = -1.0\n",
      "energy: -0.98\n",
      "running energy = -0.98\n",
      "energy: -0.9600000000000001\n",
      "running energy = -0.9600000000000001\n",
      "energy: -0.9400000000000001\n",
      "running energy = -0.9400000000000001\n",
      "energy: -0.92\n",
      "running energy = -0.92\n",
      "energy: -0.9\n",
      "running energy = -0.9\n",
      "energy: 2.9\n",
      "running energy = 2.9\n",
      "energy: 2.92\n",
      "running energy = 2.92\n",
      "energy: 2.94\n",
      "running energy = 2.94\n",
      "energy: 2.96\n",
      "running energy = 2.96\n",
      "energy: 2.98\n",
      "running energy = 2.98\n",
      "energy: 3.0\n",
      "running energy = 3.0\n",
      "energy: 3.02\n",
      "running energy = 3.02\n",
      "energy: 3.04\n",
      "running energy = 3.04\n",
      "energy: 3.06\n",
      "running energy = 3.06\n",
      "energy: 3.08\n",
      "running energy = 3.08\n",
      "energy: 3.1\n",
      "running energy = 3.1\n"
     ]
    },
    {
     "data": {
      "text/plain": "[[86, 77, 161, 304, 73, 12, 232, 138, 88, 103, 41],\n [282, 41, 328, 392, 446, 533, 459, 311, 327, 422, None],\n [89, 210, 530, 353, 542, 530, 519, 374, 263, 570, 377]]"
     },
     "execution_count": 12,
     "metadata": {},
     "output_type": "execute_result"
    }
   ],
   "source": [
    "#TODO: make threshold rigorous\n",
    "def search_spectrum(linspace, threshold, numCycles, xMod, zMod):\n",
    "    delta = abs(linspace[1]) - abs(linspace[0])\n",
    "    length = linspace[0] - linspace[-1]\n",
    "\n",
    "    peaks = list()\n",
    "    for i in linspace:\n",
    "        result = run_rodeo(5, numCycles, i, xMod, zMod)\n",
    "        print('energy: ' + str(i))\n",
    "        print('counts: ' + str(result))\n",
    "        if result is not None and result >= threshold:\n",
    "            peaks.append(i)\n",
    "\n",
    "    print(peaks)\n",
    "\n",
    "    peakOutput = list()\n",
    "    peaksOutput = list()\n",
    "    for i in peaks:\n",
    "        for j in np.linspace(i - delta/length, i + delta/length, 11):\n",
    "            print('energy: ' + str(j))\n",
    "            peakOutput.append(run_rodeo(10, numCycles, j, xMod, zMod))\n",
    "        peaksOutput.append(peakOutput)\n",
    "        peakOutput = []\n",
    "\n",
    "    return peaksOutput\n",
    "\n",
    "search_spectrum(np.linspace(-5, 5, 11), 400, 3, 2, 1)"
   ],
   "metadata": {
    "collapsed": false,
    "pycharm": {
     "name": "#%%\n"
    }
   }
  },
  {
   "cell_type": "code",
   "execution_count": null,
   "outputs": [],
   "source": [
    "data = []\n",
    "\n",
    "\n",
    "for i in Range(100):\n",
    "    for j in Range(specSuccess4[i]):\n",
    "        data.append(float(i/10 - 5))\n",
    "\n",
    "print(data)\n",
    "\n",
    "fig2 = plt.hist(data, bins=100)\n",
    "plt.show()"
   ],
   "metadata": {
    "collapsed": false,
    "pycharm": {
     "name": "#%%\n"
    }
   }
  }
 ],
 "metadata": {
  "kernelspec": {
   "name": "pycharm-9e67238a",
   "language": "python",
   "display_name": "PyCharm (pythonProject)"
  },
  "language_info": {
   "codemirror_mode": {
    "name": "ipython",
    "version": 3
   },
   "file_extension": ".py",
   "mimetype": "text/x-python",
   "name": "python",
   "nbconvert_exporter": "python",
   "pygments_lexer": "ipython3",
   "version": "3.9.5"
  },
  "widgets": {
   "application/vnd.jupyter.widget-state+json": {
    "state": {},
    "version_major": 2,
    "version_minor": 0
   }
  }
 },
 "nbformat": 4,
 "nbformat_minor": 5
}