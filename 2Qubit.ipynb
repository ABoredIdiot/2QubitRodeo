{
 "cells": [
  {
   "cell_type": "code",
   "execution_count": 4,
   "id": "714a9fea-0c13-49c4-8fbc-534d847331ca",
   "metadata": {},
   "outputs": [],
   "source": [
    "import numpy as np\n",
    "from sympy import *\n",
    "from sympy.solvers import solve\n",
    "import random\n",
    "from qiskit import *\n",
    "from qiskit import IBMQ\n",
    "import pylatexenc\n",
    "import scipy as sp\n",
    "from numpy import linalg as la\n",
    "import matplotlib.pyplot as plt\n",
    "from scipy import linalg as sla\n",
    "from IPython.display import clear_output\n",
    "from numpy import linalg as la\n",
    "from qiskit.tools.visualization import plot_histogram\n",
    "from qiskit.circuit import QuantumCircuit, ParameterVector\n",
    "from qiskit.circuit import Parameter\n",
    "from qiskit.compiler import transpile, assemble\n",
    "from qiskit.providers.ibmq.managed import IBMQJobManager\n",
    "from qiskit.visualization import *\n",
    "from operator import itemgetter\n",
    "from functools import reduce"
   ]
  },
  {
   "cell_type": "code",
   "execution_count": 18,
   "id": "1d0c539e-f21b-4cee-a10f-8a597bee2743",
   "metadata": {},
   "outputs": [
    {
     "name": "stderr",
     "output_type": "stream",
     "text": [
      "configrc.store_credentials:WARNING:2021-09-10 15:27:18,160: Credentials already present. Set overwrite=True to overwrite.\n",
      "ibmqfactory.load_account:WARNING:2021-09-10 15:27:18,461: Credentials are already in use. The existing account in the session will be replaced.\n"
     ]
    },
    {
     "name": "stdout",
     "output_type": "stream",
     "text": [
      "[<IBMQSimulator('ibmq_qasm_simulator') from IBMQ(hub='ibm-q', group='open', project='main')>, <IBMQBackend('ibmq_armonk') from IBMQ(hub='ibm-q', group='open', project='main')>, <IBMQBackend('ibmq_santiago') from IBMQ(hub='ibm-q', group='open', project='main')>, <IBMQBackend('ibmq_bogota') from IBMQ(hub='ibm-q', group='open', project='main')>, <IBMQBackend('ibmq_lima') from IBMQ(hub='ibm-q', group='open', project='main')>, <IBMQBackend('ibmq_belem') from IBMQ(hub='ibm-q', group='open', project='main')>, <IBMQBackend('ibmq_quito') from IBMQ(hub='ibm-q', group='open', project='main')>, <IBMQSimulator('simulator_statevector') from IBMQ(hub='ibm-q', group='open', project='main')>, <IBMQSimulator('simulator_mps') from IBMQ(hub='ibm-q', group='open', project='main')>, <IBMQSimulator('simulator_extended_stabilizer') from IBMQ(hub='ibm-q', group='open', project='main')>, <IBMQSimulator('simulator_stabilizer') from IBMQ(hub='ibm-q', group='open', project='main')>, <IBMQBackend('ibmq_manila') from IBMQ(hub='ibm-q', group='open', project='main')>]\n"
     ]
    }
   ],
   "source": [
    "IBMQ.save_account('8b348610e213002b7703e139b265bc2f162c112104640fcb8af4557510b365d7a8114ceeb06c18b299b197d5acc68229ac9889f1a305905c64ba880256a5359b')\n",
    "IBMQ.load_account()\n",
    "provider = IBMQ.get_provider()\n",
    "\n",
    "print(provider.backends())\n",
    "\n",
    "backend = provider.get_backend('ibmq_qasm_simulator')\n",
    "\n",
    "eTarget = -2"
   ]
  },
  {
   "cell_type": "code",
   "execution_count": 7,
   "id": "c4402127-8639-4cd8-953b-88d643c075c7",
   "metadata": {},
   "outputs": [
    {
     "data": {
      "text/plain": "<Figure size 287.496x284.278 with 1 Axes>",
      "image/png": "[encoded data removed]"
     },
     "execution_count": 7,
     "metadata": {},
     "output_type": "execute_result"
    }
   ],
   "source": [
    "def make_cont_sys_circ(inTime):\n",
    "    time = Parameter('time')\n",
    "\n",
    "    temp = QuantumCircuit(2)\n",
    "\n",
    "    temp.cx(0, 1)\n",
    "    temp.h(1)\n",
    "    temp.sdg(0)\n",
    "    temp.sdg(1)\n",
    "\n",
    "    temp.rz(-2 * time, 0)\n",
    "    temp.rz(-4 * time, 1)\n",
    "\n",
    "    temp.s(0)\n",
    "    temp.s(1)\n",
    "    temp.h(1)\n",
    "    temp.cx(0, 1)\n",
    "\n",
    "    tempGate = temp.to_gate({time: inTime}, \"sys: \" + str(inTime))\n",
    "\n",
    "    contTemp = tempGate.control(1)\n",
    "\n",
    "    return contTemp\n",
    "\n",
    "test = QuantumCircuit(3)\n",
    "\n",
    "test.append(make_cont_sys_circ(1), [0, 1, 2])\n",
    "\n",
    "test.draw('mpl')"
   ]
  },
  {
   "cell_type": "code",
   "execution_count": 28,
   "outputs": [
    {
     "data": {
      "text/plain": "<Figure size 370.906x200.667 with 1 Axes>",
      "image/png": "[encoded data removed]"
     },
     "execution_count": 28,
     "metadata": {},
     "output_type": "execute_result"
    }
   ],
   "source": [
    "def make_cont_sys_circ2(inTime):\n",
    "    time = Parameter('time')\n",
    "\n",
    "    temp = QuantumCircuit(2)\n",
    "\n",
    "    temp.cx(1, 0)\n",
    "\n",
    "    temp.rx(-4 * time, 0)\n",
    "    temp.rz(-2 * time, 1)\n",
    "\n",
    "    temp.cx(1, 0)\n",
    "\n",
    "\n",
    "\n",
    "    tempGate = temp.to_gate({time: inTime}, \"sys: \" + str(inTime))\n",
    "\n",
    "    contTemp = tempGate.control(1)\n",
    "\n",
    "    return contTemp\n",
    "\n",
    "temp = QuantumCircuit(2)\n",
    "\n",
    "temp.cx(1, 0)\n",
    "\n",
    "temp.rx(-4 * 1, 1)\n",
    "temp.rz(-2 * 1, 0)\n",
    "\n",
    "temp.cx(1, 0)\n",
    "\n",
    "temp.draw('mpl')"
   ],
   "metadata": {
    "collapsed": false,
    "pycharm": {
     "name": "#%%\n"
    }
   }
  },
  {
   "cell_type": "code",
   "execution_count": 9,
   "outputs": [
    {
     "name": "stderr",
     "output_type": "stream",
     "text": [
      "<ipython-input-9-f74779fc334a>:6: DeprecationWarning: The QuantumCircuit.u1 method is deprecated as of 0.16.0. It will be removed no earlier than 3 months after the release date. You should use the QuantumCircuit.p method instead, which acts identically.\n",
      "  rodeo.u1(1*eTarget, 0)\n"
     ]
    },
    {
     "data": {
      "text/plain": "<Figure size 807.394x367.889 with 1 Axes>",
      "image/png": "[encoded data removed]"
     },
     "execution_count": 9,
     "metadata": {},
     "output_type": "execute_result"
    }
   ],
   "source": [
    "rodeo = QuantumCircuit(QuantumRegister(3), ClassicalRegister(3))\n",
    "\n",
    "rodeo.h(0)\n",
    "rodeo.cy(1, 0)\n",
    "rodeo.append(make_cont_sys_circ(1), [0, 1, 2])\n",
    "rodeo.u1(1*eTarget, 0)\n",
    "rodeo.cy(1, 0)\n",
    "rodeo.h(0)\n",
    "rodeo.measure(0, 1)\n",
    "\n",
    "rodeo.draw('mpl')"
   ],
   "metadata": {
    "collapsed": false,
    "pycharm": {
     "name": "#%%\n"
    }
   }
  },
  {
   "cell_type": "code",
   "execution_count": 42,
   "id": "851f6b7a-5839-4d65-915e-b4bc11fc0a1b",
   "metadata": {
    "pycharm": {
     "name": "#%%\n"
    }
   },
   "outputs": [
    {
     "name": "stdout",
     "output_type": "stream",
     "text": [
      "-5.0: \n",
      "56\n",
      "-4.9: \n",
      "41\n",
      "-4.8: \n",
      "27\n",
      "-4.7: \n",
      "25\n",
      "-4.6: \n",
      "19\n",
      "-4.5: \n",
      "22\n",
      "-4.4: \n",
      "25\n",
      "-4.3: \n",
      "49\n",
      "-4.2: \n",
      "50\n",
      "-4.1: \n",
      "64\n",
      "-4.0: \n",
      "70\n",
      "-3.9: \n",
      "87\n",
      "-3.8: \n",
      "115\n",
      "-3.7: \n",
      "101\n",
      "-3.6: \n",
      "124\n",
      "-3.5: \n",
      "115\n",
      "-3.4: \n",
      "116\n",
      "-3.3: \n",
      "110\n",
      "-3.2: \n",
      "90\n",
      "-3.1: \n",
      "90\n",
      "-3.0: \n",
      "98\n",
      "-2.9: \n",
      "63\n",
      "-2.8: \n",
      "61\n",
      "-2.7: \n",
      "45\n",
      "-2.6: \n",
      "31\n",
      "-2.5: \n",
      "26\n",
      "-2.4: \n",
      "12\n",
      "-2.3: \n",
      "15\n",
      "-2.2: \n",
      "10\n",
      "-2.1: \n",
      "6\n",
      "-2.0: \n",
      "4\n",
      "-1.9: \n",
      "1\n",
      "-1.8: \n"
     ]
    },
    {
     "ename": "KeyError",
     "evalue": "'111'",
     "output_type": "error",
     "traceback": [
      "\u001B[1;31m---------------------------------------------------------------------------\u001B[0m",
      "\u001B[1;31mKeyError\u001B[0m                                  Traceback (most recent call last)",
      "\u001B[1;32m<ipython-input-42-9fcb5e16f890>\u001B[0m in \u001B[0;36m<module>\u001B[1;34m\u001B[0m\n\u001B[0;32m     47\u001B[0m     \u001B[0mjob\u001B[0m \u001B[1;33m=\u001B[0m \u001B[0mexecute\u001B[0m\u001B[1;33m(\u001B[0m\u001B[0mrodeo\u001B[0m\u001B[1;33m,\u001B[0m \u001B[0mbackend\u001B[0m\u001B[1;33m=\u001B[0m\u001B[0mbackend\u001B[0m\u001B[1;33m)\u001B[0m\u001B[1;33m\u001B[0m\u001B[1;33m\u001B[0m\u001B[0m\n\u001B[0;32m     48\u001B[0m     \u001B[0mjob\u001B[0m\u001B[1;33m.\u001B[0m\u001B[0mwait_for_final_state\u001B[0m\u001B[1;33m(\u001B[0m\u001B[1;33m)\u001B[0m\u001B[1;33m\u001B[0m\u001B[1;33m\u001B[0m\u001B[0m\n\u001B[1;32m---> 49\u001B[1;33m     \u001B[0mprint\u001B[0m\u001B[1;33m(\u001B[0m\u001B[0mjob\u001B[0m\u001B[1;33m.\u001B[0m\u001B[0mresult\u001B[0m\u001B[1;33m(\u001B[0m\u001B[1;33m)\u001B[0m\u001B[1;33m.\u001B[0m\u001B[0mget_counts\u001B[0m\u001B[1;33m(\u001B[0m\u001B[1;33m)\u001B[0m\u001B[1;33m[\u001B[0m\u001B[1;34m'111'\u001B[0m\u001B[1;33m]\u001B[0m\u001B[1;33m)\u001B[0m\u001B[1;33m\u001B[0m\u001B[1;33m\u001B[0m\u001B[0m\n\u001B[0m\u001B[0;32m     50\u001B[0m     \u001B[0mnoYTest\u001B[0m\u001B[1;33m.\u001B[0m\u001B[0mappend\u001B[0m\u001B[1;33m(\u001B[0m\u001B[0mjob\u001B[0m\u001B[1;33m.\u001B[0m\u001B[0mresult\u001B[0m\u001B[1;33m(\u001B[0m\u001B[1;33m)\u001B[0m\u001B[1;33m.\u001B[0m\u001B[0mget_counts\u001B[0m\u001B[1;33m(\u001B[0m\u001B[1;33m)\u001B[0m\u001B[1;33m[\u001B[0m\u001B[1;34m'111'\u001B[0m\u001B[1;33m]\u001B[0m\u001B[1;33m)\u001B[0m\u001B[1;33m\u001B[0m\u001B[1;33m\u001B[0m\u001B[0m\n\u001B[0;32m     51\u001B[0m     \u001B[0mnoYTestMore\u001B[0m\u001B[1;33m.\u001B[0m\u001B[0mappend\u001B[0m\u001B[1;33m(\u001B[0m\u001B[0mjob\u001B[0m\u001B[1;33m.\u001B[0m\u001B[0mresult\u001B[0m\u001B[1;33m(\u001B[0m\u001B[1;33m)\u001B[0m\u001B[1;33m.\u001B[0m\u001B[0mget_counts\u001B[0m\u001B[1;33m(\u001B[0m\u001B[1;33m)\u001B[0m\u001B[1;33m)\u001B[0m\u001B[1;33m\u001B[0m\u001B[1;33m\u001B[0m\u001B[0m\n",
      "\u001B[1;31mKeyError\u001B[0m: '111'"
     ]
    }
   ],
   "source": [
    "allData = list()\n",
    "evenMoreData = list()\n",
    "noYTest = list()\n",
    "noYTestMore = list()\n",
    "t1 = np.random.normal(0, 10)\n",
    "t2 = np.random.normal(0, 10)\n",
    "t3 = np.random.normal(0, 10)\n",
    "\n",
    "t1\n",
    "t2\n",
    "t3\n",
    "\n",
    "for i in Range(100):\n",
    "    eTarget = i/10 - 5\n",
    "    eTarget = float(eTarget)\n",
    "    print(str(eTarget) + \": \")\n",
    "\n",
    "    rodeo = QuantumCircuit(QuantumRegister(3), ClassicalRegister(3))\n",
    "\n",
    "    #rodeo.h(1)\n",
    "    #rodeo.cx(1, 2)\n",
    "\n",
    "    rodeo.h(0)\n",
    "    rodeo.cy(1, 0)\n",
    "    rodeo.append(make_cont_sys_circ2(t1), [0, 1, 2])\n",
    "    rodeo.u1(eTarget, 0)\n",
    "    rodeo.cy(1, 0)\n",
    "    rodeo.h(0)\n",
    "    rodeo.measure(0, 0)\n",
    "\n",
    "    rodeo.h(0)\n",
    "    rodeo.cy(1, 0)\n",
    "    rodeo.append(make_cont_sys_circ2(t2), [0, 1, 2])\n",
    "    rodeo.u1(eTarget, 0)\n",
    "    rodeo.cy(1, 0)\n",
    "    rodeo.h(0)\n",
    "    rodeo.measure(0, 1)\n",
    "\n",
    "    rodeo.h(0)\n",
    "    rodeo.cy(1, 0)\n",
    "    rodeo.append(make_cont_sys_circ2(t3), [0, 1, 2])\n",
    "    rodeo.u1(eTarget, 0)\n",
    "    rodeo.cy(1, 0)\n",
    "    rodeo.h(0)\n",
    "    rodeo.measure(0, 2)\n",
    "\n",
    "    job = execute(rodeo, backend=backend)\n",
    "    job.wait_for_final_state()\n",
    "    print(job.result().get_counts()['111'])\n",
    "    noYTest.append(job.result().get_counts()['111'])\n",
    "    noYTestMore.append(job.result().get_counts())\n",
    "\n",
    "rodeo.draw('mpl')"
   ]
  },
  {
   "cell_type": "code",
   "execution_count": 43,
   "outputs": [
    {
     "data": {
      "text/plain": "<Figure size 640x480 with 1 Axes>",
      "image/png": "[encoded data removed]"
     },
     "metadata": {},
     "output_type": "display_data"
    }
   ],
   "source": [
    "fig = plt.figure()\n",
    "ax = fig.add_axes([0,0,1,1])\n",
    "range = Range(100)\n",
    "ax.bar(range, allData)\n",
    "plt.show()"
   ],
   "metadata": {
    "collapsed": false,
    "pycharm": {
     "name": "#%%\n"
    }
   }
  },
  {
   "cell_type": "code",
   "execution_count": 41,
   "outputs": [
    {
     "name": "stdout",
     "output_type": "stream",
     "text": [
      "{'000': 97, '001': 4, '010': 183, '011': 6, '100': 483, '101': 1, '110': 249, '111': 1}\n"
     ]
    }
   ],
   "source": [
    "print(job.result().get_counts())"
   ],
   "metadata": {
    "collapsed": false,
    "pycharm": {
     "name": "#%%\n"
    }
   }
  },
  {
   "cell_type": "code",
   "execution_count": 41,
   "outputs": [],
   "source": [
    "fig2 = plt.figure()\n",
    "ax2 = fig2.add_axes([0,0,1,1])\n",
    "range2 = Range(100)\n",
    "ax2.bar(range2, noYTest)\n",
    "plt.show()\n"
   ],
   "metadata": {
    "collapsed": false,
    "pycharm": {
     "name": "#%%\n"
    }
   }
  }
 ],
 "metadata": {
  "kernelspec": {
   "name": "pycharm-9e67238a",
   "language": "python",
   "display_name": "PyCharm (pythonProject)"
  },
  "language_info": {
   "codemirror_mode": {
    "name": "ipython",
    "version": 3
   },
   "file_extension": ".py",
   "mimetype": "text/x-python",
   "name": "python",
   "nbconvert_exporter": "python",
   "pygments_lexer": "ipython3",
   "version": "3.9.5"
  },
  "widgets": {
   "application/vnd.jupyter.widget-state+json": {
    "state": {},
    "version_major": 2,
    "version_minor": 0
   }
  }
 },
 "nbformat": 4,
 "nbformat_minor": 5
}