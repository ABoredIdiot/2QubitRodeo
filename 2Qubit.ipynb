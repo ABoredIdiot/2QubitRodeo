{
 "cells": [
  {
   "cell_type": "code",
   "execution_count": 2,
   "outputs": [],
   "source": [
    "import math\n",
    "\n",
    "import numpy as np\n",
    "import qiskit.quantum_info\n",
    "from sympy import *\n",
    "import random\n",
    "from qiskit import *\n",
    "from qiskit import IBMQ\n",
    "import pylatexenc\n",
    "import scipy as sp\n",
    "from numpy import linalg as la\n",
    "import matplotlib.pyplot as plt\n",
    "from scipy import linalg as sla\n",
    "from IPython.display import clear_output\n",
    "from numpy import linalg as la\n",
    "from qiskit.tools.visualization import plot_histogram\n",
    "from qiskit.circuit import QuantumCircuit, ParameterVector\n",
    "from qiskit.circuit import Parameter\n",
    "from qiskit.compiler import transpile, assemble\n",
    "from qiskit.providers.ibmq.managed import IBMQJobManager\n",
    "from qiskit.visualization import *\n",
    "from operator import itemgetter\n",
    "from functools import reduce"
   ],
   "metadata": {
    "collapsed": false,
    "pycharm": {
     "name": "#%%\n"
    }
   }
  },
  {
   "cell_type": "code",
   "execution_count": 3,
   "outputs": [
    {
     "name": "stderr",
     "output_type": "stream",
     "text": [
      "configrc.store_credentials:WARNING:2021-10-21 15:50:40,403: Credentials already present. Set overwrite=True to overwrite.\n"
     ]
    },
    {
     "name": "stdout",
     "output_type": "stream",
     "text": [
      "[<IBMQSimulator('ibmq_qasm_simulator') from IBMQ(hub='ibm-q', group='open', project='main')>, <IBMQBackend('ibmq_armonk') from IBMQ(hub='ibm-q', group='open', project='main')>, <IBMQBackend('ibmq_santiago') from IBMQ(hub='ibm-q', group='open', project='main')>, <IBMQBackend('ibmq_bogota') from IBMQ(hub='ibm-q', group='open', project='main')>, <IBMQBackend('ibmq_lima') from IBMQ(hub='ibm-q', group='open', project='main')>, <IBMQBackend('ibmq_belem') from IBMQ(hub='ibm-q', group='open', project='main')>, <IBMQBackend('ibmq_quito') from IBMQ(hub='ibm-q', group='open', project='main')>, <IBMQSimulator('simulator_statevector') from IBMQ(hub='ibm-q', group='open', project='main')>, <IBMQSimulator('simulator_mps') from IBMQ(hub='ibm-q', group='open', project='main')>, <IBMQSimulator('simulator_extended_stabilizer') from IBMQ(hub='ibm-q', group='open', project='main')>, <IBMQSimulator('simulator_stabilizer') from IBMQ(hub='ibm-q', group='open', project='main')>, <IBMQBackend('ibmq_manila') from IBMQ(hub='ibm-q', group='open', project='main')>]\n",
      "ibmq_qasm_simulator\n"
     ]
    }
   ],
   "source": [
    "file = open(\"key.txt\", \"r\")\n",
    "key = file.read()\n",
    "IBMQ.save_account(key)\n",
    "IBMQ.load_account()\n",
    "provider = IBMQ.get_provider()\n",
    "\n",
    "print(provider.backends())\n",
    "\n",
    "# backend = provider.get_backend('ibmq_belem')\n",
    "backend = provider.get_backend('ibmq_qasm_simulator')\n",
    "# backend = provider.get_backend('simulator_statevector')\n",
    "# simulator = Aer.get_backend('aer_simulator')\n",
    "print(backend)"
   ],
   "metadata": {
    "collapsed": false,
    "pycharm": {
     "name": "#%%\n"
    }
   }
  },
  {
   "cell_type": "code",
   "execution_count": 4,
   "outputs": [
    {
     "data": {
      "text/plain": "<Figure size 371.107x284.278 with 1 Axes>",
      "image/png": "[encoded data removed]"
     },
     "execution_count": 4,
     "metadata": {},
     "output_type": "execute_result"
    }
   ],
   "source": [
    "#turn on hadamards to get all 4 states present\n",
    "def make_cont_sys_circ(inTime, xMod, zMod):\n",
    "    temp = QuantumCircuit(3)\n",
    "\n",
    "    # temp.h(0)\n",
    "\n",
    "    temp.cx(1, 0)\n",
    "\n",
    "    temp.rx(2 * xMod * inTime, 1)\n",
    "    temp.rz(2 * zMod * inTime, 0)\n",
    "\n",
    "    temp.cx(1, 0)\n",
    "\n",
    "    # temp.h(0)\n",
    "\n",
    "    return temp\n",
    "\n",
    "temp = QuantumCircuit(3)\n",
    "\n",
    "temp.compose(make_cont_sys_circ(1, 2, 1), [0, 1, 2], inplace=True)\n",
    "\n",
    "temp.draw('mpl')"
   ],
   "metadata": {
    "collapsed": false,
    "pycharm": {
     "name": "#%%\n"
    }
   }
  },
  {
   "cell_type": "code",
   "execution_count": 5,
   "outputs": [
    {
     "data": {
      "text/plain": "<Figure size 956.385x284.278 with 1 Axes>",
      "image/png": "[encoded data removed]"
     },
     "execution_count": 5,
     "metadata": {},
     "output_type": "execute_result"
    }
   ],
   "source": [
    "def make_cycle(time, ETarget, xMod, zMod):\n",
    "    cycle = QuantumCircuit(3)\n",
    "\n",
    "    cycle.h(2)\n",
    "\n",
    "    cycle.x(2)\n",
    "    cycle.cy(2, 1)\n",
    "\n",
    "    cycle.compose(make_cont_sys_circ(time, xMod, zMod), [0, 1, 2], inplace=True)\n",
    "\n",
    "    cycle.cy(2, 1)\n",
    "    cycle.x(2)\n",
    "\n",
    "    cycle.p(time * ETarget * 2, 2)\n",
    "\n",
    "    cycle.h(2)\n",
    "\n",
    "    return cycle\n",
    "\n",
    "test = QuantumCircuit(3)\n",
    "test.compose(make_cycle(1, 1, 2, 1), [0, 1, 2], inplace=True)\n",
    "test.draw('mpl')"
   ],
   "metadata": {
    "collapsed": false,
    "pycharm": {
     "name": "#%%\n"
    }
   }
  },
  {
   "cell_type": "code",
   "execution_count": 6,
   "outputs": [
    {
     "name": "stdout",
     "output_type": "stream",
     "text": [
      "0.31489344845470196\n",
      "0.45767718714380956\n",
      "1.213841976576334\n",
      "2.893200684650126\n",
      "-3.885531518973642\n"
     ]
    }
   ],
   "source": [
    "#TODO: Find way to gaurantee low overlap\n",
    "\n",
    "t1 = np.random.normal(0, 5)\n",
    "t2 = np.random.normal(0, 5)\n",
    "t3 = np.random.normal(0, 5)\n",
    "t4 = np.random.normal(0, 5)\n",
    "t5 = np.random.normal(0, 5)\n",
    "\n",
    "print(t1)\n",
    "print(t2)\n",
    "print(t3)\n",
    "print(t4)\n",
    "print(t5)"
   ],
   "metadata": {
    "collapsed": false,
    "pycharm": {
     "name": "#%%\n"
    }
   }
  },
  {
   "cell_type": "code",
   "execution_count": 8,
   "outputs": [
    {
     "name": "stdout",
     "output_type": "stream",
     "text": [
      "-3.0: \n",
      "84\n",
      "{'00000': 84, '00001': 92, '00010': 98, '00011': 331, '00100': 78, '00101': 77, '00110': 106, '00111': 158}\n",
      "-1.0: \n",
      "532\n",
      "{'00000': 532, '00001': 8, '00010': 42, '00011': 29, '00100': 3, '00101': 408, '00110': 1, '00111': 1}\n",
      "1.0: \n",
      "134\n",
      "{'00000': 134, '00001': 131, '00010': 174, '00011': 48, '00100': 113, '00101': 117, '00110': 247, '00111': 60}\n",
      "3.0: \n",
      "514\n",
      "{'00000': 514, '00001': 9, '00010': 44, '00011': 33, '00100': 4, '00101': 417, '00110': 1, '00111': 2}\n"
     ]
    },
    {
     "data": {
      "text/plain": "<Figure size 2265.65x785.944 with 1 Axes>",
      "image/png": "[encoded data removed]"
     },
     "execution_count": 8,
     "metadata": {},
     "output_type": "execute_result"
    }
   ],
   "source": [
    "# Unused test code\n",
    "\n",
    "specSuccess4 = list()\n",
    "specAll4 = list()\n",
    "\n",
    "vectors = [[0, 0, -1/sqrt(2), 0, 1/sqrt(2), 0, 0, 0], [1/sqrt(2), 0, 0, 0, 0, 0, 1/sqrt(2), 0], [-1/sqrt(2), 0, 0, 0, 0, 0, 1/sqrt(2), 0], [0, 0, 1/sqrt(2), 0, 1/sqrt(2), 0, 0, 0]]\n",
    "#eigenstate (tensor) {1,0}\n",
    "values = [-3, 3, -1, 1]\n",
    "\n",
    "#initial_state = [1/sqrt(2), 0, 0, -1/sqrt(2), 0, 0, 0,0]\n",
    "#initial_vector = qiskit.quantum_info.Statevector(initial_state)\n",
    "\n",
    "for i in Range(4):\n",
    "    energies = [-3, -1, 1, 3]\n",
    "    eTarget = energies[i]\n",
    "    # eTarget = -3 + (i) * 2\n",
    "    # eTarget = i/10 - 5\n",
    "\n",
    "    eTarget = float(eTarget)\n",
    "    print(str(eTarget) + \": \")\n",
    "\n",
    "    rodeo = QuantumCircuit(QuantumRegister(3), ClassicalRegister(5))\n",
    "\n",
    "    # rodeo.initialize(initial_vector)\n",
    "    # rodeo.h(2)\n",
    "    # rodeo.x(1)\n",
    "    # rodeo.x(2)\n",
    "    # rodeo.p(1, 0)\n",
    "\n",
    "    rodeo.compose(make_cycle(t1, eTarget, 2, 1), [0, 1, 2], inplace=True)\n",
    "    rodeo.measure(2, 0) #cbit 0000n\n",
    "\n",
    "    rodeo.compose(make_cycle(t2, eTarget, 2, 1), [0, 1, 2], inplace=True)\n",
    "    rodeo.measure(2, 1) #cbit 000n0\n",
    "\n",
    "    rodeo.compose(make_cycle(t3, eTarget, 2, 1), [0, 1, 2], inplace=True)\n",
    "    rodeo.measure(2, 2) #cbit 00n00\n",
    "    #\n",
    "    # rodeo.compose(make_cycle(t4, eTarget), [0, 1, 2], inplace=True)\n",
    "    # rodeo.measure(0, 3) #cbit 0n000\n",
    "    #\n",
    "    # rodeo.compose(make_cycle(t5, eTarget), [0, 1, 2], inplace=True)\n",
    "    # rodeo.measure(0, 4) #cbit n0000\n",
    "\n",
    "\n",
    "    job = execute(rodeo, backend=backend)\n",
    "    job.wait_for_final_state()\n",
    "\n",
    "    numSuccess = job.result().get_counts().get('00000')\n",
    "    if numSuccess is None:\n",
    "        numSuccess = 0\n",
    "\n",
    "    print(numSuccess)\n",
    "    specSuccess4.append(numSuccess)\n",
    "\n",
    "    print(job.result().get_counts())\n",
    "\n",
    "rodeo.draw('mpl')"
   ],
   "metadata": {
    "collapsed": false,
    "pycharm": {
     "name": "#%%\n"
    }
   }
  },
  {
   "cell_type": "code",
   "execution_count": 5,
   "outputs": [
    {
     "name": "stdout",
     "output_type": "stream",
     "text": [
      "567\n"
     ]
    }
   ],
   "source": [
    "def run_rodeo(times, numCycles, ETarget, xMod, zMod, twoStateTime = None):\n",
    "    # debug printing\n",
    "    # if twoStateTime is None:\n",
    "    #     print('running energy = ' + str(ETarget))\n",
    "    # else:\n",
    "    #     print('running energy = ' + str(ETarget) + '; second time evolve is: ' + str(twoStateTime))\n",
    "\n",
    "    rodeo = QuantumCircuit(QuantumRegister(3), ClassicalRegister(numCycles + 1))\n",
    "\n",
    "    for i in range(numCycles):\n",
    "        rodeo.compose(make_cycle(times[i], ETarget, xMod, zMod), [0, 1, 2], inplace=True)\n",
    "        rodeo.measure(2, i + 1)\n",
    "\n",
    "    if twoStateTime is not None:\n",
    "        rodeo.compose(make_cont_sys_circ(twoStateTime, xMod, zMod), [0, 1, 2], inplace=True)\n",
    "        rodeo.measure(1, 0)\n",
    "\n",
    "    return rodeo\n",
    "\n",
    "# old code from before job manager\n",
    "# job = execute(rodeo, backend=backend)\n",
    "# job.wait_for_final_state()\n",
    "# state = '0'\n",
    "# for i in range(numCycles):\n",
    "#     state = state + '0'\n",
    "#\n",
    "# return job.result().get_counts().get(state)\n",
    "\n",
    "times = list()\n",
    "for i in range (3):\n",
    "    times.append(np.random.normal(0, 5))\n",
    "job = execute(run_rodeo(times, 3, -1, 2.5, 1.5), backend=backend)\n",
    "job.wait_for_final_state()\n",
    "state = '0'\n",
    "for i in range(3):\n",
    "    state = state + '0'\n",
    "\n",
    "print(job.result().get_counts().get(state))"
   ],
   "metadata": {
    "collapsed": false,
    "pycharm": {
     "name": "#%%\n"
    }
   }
  },
  {
   "cell_type": "code",
   "execution_count": 61,
   "outputs": [
    {
     "name": "stdout",
     "output_type": "stream",
     "text": [
      "running energy = -4\n",
      "running energy = -1\n",
      "running energy = 1\n",
      "running energy = 4\n",
      "297\n",
      "216\n",
      "245\n",
      "268\n"
     ]
    }
   ],
   "source": [
    "times = list()\n",
    "for i in range (3):\n",
    "    times.append(np.random.normal(0, 5))\n",
    "state = '0'\n",
    "for i in range(3):\n",
    "    state = state + '0'\n",
    "\n",
    "jobManager = IBMQJobManager()\n",
    "circs = list()\n",
    "\n",
    "for i in [-4, -1, 1, 4]:\n",
    "    circs.append(run_rodeo(times, 3, i, 2.5, 1.5))\n",
    "circs = transpile(circs, backend=backend)\n",
    "job = jobManager.run(circs, backend=backend, name = \"test eigenvalues\")\n",
    "results = job.results()\n",
    "for i in range(4):\n",
    "    print(results.get_counts(i).get(state))"
   ],
   "metadata": {
    "collapsed": false,
    "pycharm": {
     "name": "#%%\n"
    }
   }
  },
  {
   "cell_type": "code",
   "execution_count": 17,
   "outputs": [],
   "source": [
    "#TODO: make threshold rigorous\n",
    "#TODO: scan multiple times (25 times at 1024 shots)\n",
    "\n",
    "def search_spectrum(linspace, threshold, numCycles, laterScanNum, numSecond, xMod, zMod):\n",
    "    delta = abs(linspace[1]) - abs(linspace[0])\n",
    "    length = linspace[0] - linspace[-1]\n",
    "\n",
    "    state = '0'\n",
    "    for i in range(numCycles):\n",
    "        state = state + '0'\n",
    "    jobManager = IBMQJobManager()\n",
    "\n",
    "    peaks = list()\n",
    "    firstRunCircs = list()\n",
    "    for i in linspace:\n",
    "        times = []\n",
    "        for j in range(numCycles):\n",
    "            times.append(np.random.normal(0, 2))\n",
    "        firstRunCircs.append(run_rodeo(times, numCycles, i, xMod, zMod))\n",
    "    print(\"first pass w/ energies\")\n",
    "    print(linspace)\n",
    "    firstRunCircs = transpile(firstRunCircs, backend=backend)\n",
    "    firstRunJob = jobManager.run(firstRunCircs, backend=backend, name = \"first_pass\")\n",
    "    firstRunResults = firstRunJob.results()\n",
    "\n",
    "    for runNum in range(linspace.size):\n",
    "        if firstRunResults.get_counts(runNum).get(state) is not None and firstRunResults.get_counts(runNum).get(state) >= threshold:\n",
    "            peaks.append(linspace[runNum])\n",
    "    print(\"second pass w/ peaks:\")\n",
    "    print(peaks)\n",
    "\n",
    "    secondRunCircs = list()\n",
    "    energyList = list()\n",
    "    for i in peaks:\n",
    "        for j in np.linspace(i - delta/2, i + delta/2, laterScanNum):\n",
    "            for num in range(numSecond):\n",
    "                times = []\n",
    "                for k in range(numCycles):\n",
    "                    times.append(np.random.normal(0, 7))\n",
    "                # print('energy: ' + str(j))\n",
    "                secondRunCircs.append(run_rodeo(times, numCycles, j, xMod, zMod))\n",
    "                energyList.append(j)\n",
    "\n",
    "    secondRunCircs = transpile(secondRunCircs, backend=backend)\n",
    "    secondRunJob = jobManager.run(secondRunCircs, backend=backend, name = \"second_run\")\n",
    "    secondRunResults = secondRunJob.results()\n",
    "    print(\"done w/ second pass\")\n",
    "\n",
    "    return [secondRunResults, energyList, state, laterScanNum, numSecond]"
   ],
   "metadata": {
    "collapsed": false,
    "pycharm": {
     "name": "#%%\n"
    }
   }
  },
  {
   "cell_type": "code",
   "execution_count": 52,
   "outputs": [],
   "source": [
    "#this code is genuinely terrible, but it works\n",
    "def process_data(output):\n",
    "    pairArray = []\n",
    "    for i in range(int(len(output[1]) / (output[4]))):\n",
    "        totalSuccess = 0\n",
    "        for j in range(output[4]):\n",
    "            if output[0].get_counts(i * output[4] + j).get(output[2]) is not None:\n",
    "                totalSuccess = totalSuccess + output[0].get_counts(i * output[4] + j).get(output[2])\n",
    "        pairArray.append([output[1][i * output[4]], totalSuccess / output[4]])\n",
    "\n",
    "    subScans = []\n",
    "    for i in range(int(len(pairArray) / output[3])):\n",
    "        temp = []\n",
    "        for k in range(output[3]):\n",
    "            temp.append(pairArray[k + i * output[3]])\n",
    "        temp.reverse()\n",
    "        subScans.append(temp)\n",
    "    return subScans"
   ],
   "metadata": {
    "collapsed": false,
    "pycharm": {
     "name": "#%%\n"
    }
   }
  },
  {
   "cell_type": "code",
   "execution_count": 26,
   "outputs": [],
   "source": [
    "def plot_scans(data):\n",
    "    energy = []\n",
    "    successes = []\n",
    "    for i in data:\n",
    "        for j in i:\n",
    "            energy.append(j[0])\n",
    "            if j[1] is not None:\n",
    "                successes.append(j[1])\n",
    "\n",
    "    hist1 = plt.bar(energy, successes, width=(0.8*(energy[1]-energy[0])))\n",
    "    plt.show()"
   ],
   "metadata": {
    "collapsed": false,
    "pycharm": {
     "name": "#%%\n"
    }
   }
  },
  {
   "cell_type": "code",
   "execution_count": 56,
   "outputs": [
    {
     "name": "stdout",
     "output_type": "stream",
     "text": [
      "first pass w/ energies\n",
      "[-5. -4. -3. -2. -1.  0.  1.  2.  3.  4.  5.]\n",
      "second pass w/ peaks:\n",
      "[-5.0, -3.0, -2.0, -1.0, 0.0, 3.0, 4.0]\n",
      "done w/ second pass\n",
      "3675\n",
      "[[[-5.5, 143.2], [-5.45, 154.56], [-5.4, 84.72], [-5.35, 100.76], [-5.3, 127.4], [-5.25, 121.36], [-5.2, 136.0], [-5.15, 85.0], [-5.1, 102.92], [-5.05, 135.52], [-5.0, 122.88], [-4.95, 160.64], [-4.9, 95.92], [-4.85, 136.56], [-4.8, 150.64], [-4.75, 150.88], [-4.7, 159.36], [-4.65, 135.72], [-4.6, 110.92], [-4.55, 143.32], [-4.5, 136.76]], [[-3.5, 110.16], [-3.45, 119.88], [-3.4, 108.72], [-3.35, 115.32], [-3.3, 122.76], [-3.25, 164.96], [-3.2, 168.28], [-3.15, 166.52], [-3.1, 114.0], [-3.05, 120.0], [-3.0, 125.08], [-2.95, 159.68], [-2.9, 142.44], [-2.85, 128.88], [-2.8, 140.8], [-2.75, 139.24], [-2.7, 117.36], [-2.65, 92.52], [-2.6, 152.0], [-2.55, 110.84], [-2.5, 120.92]], [[-2.5, 137.32], [-2.45, 107.56], [-2.4, 142.64], [-2.35, 72.96], [-2.3, 82.92], [-2.25, 137.52], [-2.2, 150.32], [-2.15, 127.12], [-2.1, 152.64], [-2.05, 126.6], [-2.0, 123.32], [-1.95, 151.68], [-1.9, 129.16], [-1.85, 135.92], [-1.8, 113.76], [-1.75, 115.6], [-1.7, 144.64], [-1.65, 143.72], [-1.6, 133.0], [-1.55, 185.2], [-1.5, 160.24]], [[-1.5, 71.48], [-1.4500000000000002, 149.96], [-1.4, 121.08], [-1.35, 139.12], [-1.3, 134.04], [-1.25, 137.08], [-1.2000000000000002, 112.04], [-1.15, 137.44], [-1.1, 250.48], [-1.05, 429.76], [-1.0, 584.44], [-0.95, 412.28], [-0.9, 177.04], [-0.8500000000000001, 130.2], [-0.8, 106.44], [-0.75, 170.84], [-0.7, 172.6], [-0.65, 112.32], [-0.6, 171.2], [-0.55, 145.68], [-0.5, 141.68]], [[-0.5, 105.8], [-0.45000000000000007, 121.92], [-0.4, 89.44], [-0.3500000000000001, 73.72], [-0.30000000000000004, 68.04], [-0.25, 97.92], [-0.20000000000000007, 141.84], [-0.15000000000000002, 122.04], [-0.10000000000000009, 133.04], [-0.050000000000000044, 195.88], [0.0, 93.72], [0.04999999999999999, 99.6], [0.09999999999999998, 114.6], [0.14999999999999997, 163.76], [0.19999999999999996, 116.28], [0.25, 124.84], [0.3, 141.0], [0.35, 121.68], [0.4, 132.28], [0.45, 102.96], [0.5, 132.72]], [[2.5, 155.04], [2.55, 131.96], [2.6, 133.56], [2.65, 143.84], [2.7, 84.52], [2.75, 123.76], [2.8, 100.44], [2.85, 106.72], [2.9, 100.32], [2.95, 149.32], [3.0, 119.64], [3.05, 132.32], [3.1, 138.0], [3.15, 100.92], [3.2, 135.96], [3.25, 127.36], [3.3, 116.16], [3.35, 132.6], [3.4, 155.6], [3.45, 104.8], [3.5, 76.16]], [[3.5, 134.24], [3.55, 149.88], [3.6, 109.96], [3.65, 138.6], [3.7, 116.12], [3.75, 152.92], [3.8, 152.88], [3.85, 187.44], [3.9, 228.52], [3.95, 439.48], [4.0, 588.44], [4.05, 429.4], [4.1, 243.56], [4.15, 197.2], [4.2, 132.28], [4.25, 168.32], [4.3, 131.24], [4.35, 109.16], [4.4, 144.36], [4.45, 145.2], [4.5, 167.28]]]\n"
     ]
    },
    {
     "data": {
      "text/plain": "<Figure size 640x480 with 1 Axes>",
      "image/png": "[encoded data removed]"
     },
     "metadata": {},
     "output_type": "display_data"
    }
   ],
   "source": [
    "threeCycleOut = search_spectrum(np.linspace(-5, 5, 11), 150, 3, 21, 25, 2.5, 1.5)\n",
    "# print(threeCycleOut)\n",
    "print(len(threeCycleOut[1]))\n",
    "threeCycle2 = process_data(threeCycleOut)\n",
    "print(threeCycle2)\n",
    "\n",
    "plot_scans(threeCycle2)"
   ],
   "metadata": {
    "collapsed": false,
    "pycharm": {
     "name": "#%%\n"
    }
   }
  },
  {
   "cell_type": "code",
   "execution_count": 59,
   "outputs": [
    {
     "name": "stdout",
     "output_type": "stream",
     "text": [
      "first pass w/ energies\n",
      "[-5. -4. -3. -2. -1.  0.  1.  2.  3.  4.  5.]\n",
      "second pass w/ peaks:\n",
      "[-3.0, -2.0, 2.0, 4.0]\n",
      "done w/ second pass\n",
      "[[[-3.5, 128.68], [-3.4, 135.64], [-3.3, 139.24], [-3.2, 125.92], [-3.1, 199.44], [-3.0, 132.6], [-2.9, 102.56], [-2.8, 119.32], [-2.7, 104.08], [-2.6, 139.84], [-2.5, 93.64]], [[-2.5, 89.8], [-2.4, 117.4], [-2.3, 132.0], [-2.2, 138.92], [-2.1, 162.28], [-2.0, 226.72], [-1.9, 128.52], [-1.8, 98.84], [-1.7, 127.28], [-1.6, 103.52], [-1.5, 101.36]], [[1.5, 120.4], [1.6, 113.36], [1.7, 256.56], [1.7999999999999998, 533.12], [1.9, 167.36], [2.0, 144.32], [2.1, 85.68], [2.2, 151.56], [2.3, 132.2], [2.4, 190.48], [2.5, 100.76]], [[3.5, 142.04], [3.6, 145.12], [3.7, 314.16], [3.8, 558.56], [3.9, 155.6], [4.0, 150.28], [4.1, 118.16], [4.2, 95.2], [4.3, 143.44], [4.4, 128.64], [4.5, 119.04]]]\n"
     ]
    },
    {
     "data": {
      "text/plain": "<Figure size 640x480 with 1 Axes>",
      "image/png": "[encoded data removed]"
     },
     "metadata": {},
     "output_type": "display_data"
    }
   ],
   "source": [
    "xmod1 = 1#.3359430644\n",
    "zmod1 = 2.7803609513\n",
    "\n",
    "randomTest = process_data(search_spectrum(np.linspace(-5, 5, 11), 150, 3, 11, 25, xmod1, zmod1))\n",
    "print(randomTest)\n",
    "plot_scans(randomTest)"
   ],
   "metadata": {
    "collapsed": false,
    "pycharm": {
     "name": "#%%\n"
    }
   }
  }
 ],
 "metadata": {
  "kernelspec": {
   "name": "pycharm-9e67238a",
   "language": "python",
   "display_name": "PyCharm (pythonProject)"
  },
  "language_info": {
   "codemirror_mode": {
    "name": "ipython",
    "version": 3
   },
   "file_extension": ".py",
   "mimetype": "text/x-python",
   "name": "python",
   "nbconvert_exporter": "python",
   "pygments_lexer": "ipython3",
   "version": "3.9.5"
  },
  "widgets": {
   "application/vnd.jupyter.widget-state+json": {
    "state": {},
    "version_major": 2,
    "version_minor": 0
   }
  }
 },
 "nbformat": 4,
 "nbformat_minor": 5
}